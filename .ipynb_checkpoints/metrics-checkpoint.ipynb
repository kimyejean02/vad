{
 "cells": [
  {
   "cell_type": "code",
   "execution_count": 2,
   "metadata": {},
   "outputs": [
    {
     "name": "stdout",
     "output_type": "stream",
     "text": [
      "Requirement already satisfied: pvcobra in /Users/Lakhsh/opt/anaconda3/lib/python3.8/site-packages (1.1.2)\n",
      "\u001b[33mWARNING: You are using pip version 21.1.1; however, version 22.1 is available.\n",
      "You should consider upgrading via the '/Users/Lakhsh/opt/anaconda3/bin/python -m pip install --upgrade pip' command.\u001b[0m\n",
      "Requirement already satisfied: webrtcvad in /Users/Lakhsh/opt/anaconda3/lib/python3.8/site-packages (2.0.10)\n",
      "\u001b[33mWARNING: You are using pip version 21.1.1; however, version 22.1 is available.\n",
      "You should consider upgrading via the '/Users/Lakhsh/opt/anaconda3/bin/python -m pip install --upgrade pip' command.\u001b[0m\n",
      "Requirement already satisfied: soundfile in /Users/Lakhsh/opt/anaconda3/lib/python3.8/site-packages (0.10.3.post1)\n",
      "Requirement already satisfied: cffi>=1.0 in /Users/Lakhsh/opt/anaconda3/lib/python3.8/site-packages (from soundfile) (1.14.0)\n",
      "Requirement already satisfied: pycparser in /Users/Lakhsh/opt/anaconda3/lib/python3.8/site-packages (from cffi>=1.0->soundfile) (2.20)\n",
      "\u001b[33mWARNING: You are using pip version 21.1.1; however, version 22.1 is available.\n",
      "You should consider upgrading via the '/Users/Lakhsh/opt/anaconda3/bin/python -m pip install --upgrade pip' command.\u001b[0m\n",
      "Requirement already satisfied: torchaudio in /Users/Lakhsh/opt/anaconda3/lib/python3.8/site-packages (0.11.0)\n",
      "Requirement already satisfied: torch==1.11.0 in /Users/Lakhsh/opt/anaconda3/lib/python3.8/site-packages (from torchaudio) (1.11.0)\n",
      "Requirement already satisfied: typing-extensions in /Users/Lakhsh/opt/anaconda3/lib/python3.8/site-packages (from torch==1.11.0->torchaudio) (3.7.4.2)\n",
      "\u001b[33mWARNING: You are using pip version 21.1.1; however, version 22.1 is available.\n",
      "You should consider upgrading via the '/Users/Lakhsh/opt/anaconda3/bin/python -m pip install --upgrade pip' command.\u001b[0m\n",
      "Requirement already satisfied: librosa in /Users/Lakhsh/opt/anaconda3/lib/python3.8/site-packages (0.9.1)\n",
      "Requirement already satisfied: soundfile>=0.10.2 in /Users/Lakhsh/opt/anaconda3/lib/python3.8/site-packages (from librosa) (0.10.3.post1)\n",
      "Requirement already satisfied: scipy>=1.2.0 in /Users/Lakhsh/opt/anaconda3/lib/python3.8/site-packages (from librosa) (1.5.2)\n",
      "Requirement already satisfied: audioread>=2.1.5 in /Users/Lakhsh/opt/anaconda3/lib/python3.8/site-packages (from librosa) (2.1.9)\n",
      "Requirement already satisfied: numba>=0.45.1 in /Users/Lakhsh/opt/anaconda3/lib/python3.8/site-packages (from librosa) (0.50.1)\n",
      "Requirement already satisfied: resampy>=0.2.2 in /Users/Lakhsh/opt/anaconda3/lib/python3.8/site-packages (from librosa) (0.2.2)\n",
      "Requirement already satisfied: packaging>=20.0 in /Users/Lakhsh/opt/anaconda3/lib/python3.8/site-packages (from librosa) (20.4)\n",
      "Requirement already satisfied: pooch>=1.0 in /Users/Lakhsh/opt/anaconda3/lib/python3.8/site-packages (from librosa) (1.6.0)\n",
      "Requirement already satisfied: numpy>=1.17.0 in /Users/Lakhsh/opt/anaconda3/lib/python3.8/site-packages (from librosa) (1.18.5)\n",
      "Requirement already satisfied: decorator>=4.0.10 in /Users/Lakhsh/opt/anaconda3/lib/python3.8/site-packages (from librosa) (4.4.2)\n",
      "Requirement already satisfied: joblib>=0.14 in /Users/Lakhsh/opt/anaconda3/lib/python3.8/site-packages (from librosa) (0.16.0)\n",
      "Requirement already satisfied: scikit-learn>=0.19.1 in /Users/Lakhsh/opt/anaconda3/lib/python3.8/site-packages (from librosa) (0.23.2)\n",
      "Requirement already satisfied: llvmlite<0.34,>=0.33.0.dev0 in /Users/Lakhsh/opt/anaconda3/lib/python3.8/site-packages (from numba>=0.45.1->librosa) (0.33.0+1.g022ab0f)\n",
      "Requirement already satisfied: setuptools in /Users/Lakhsh/opt/anaconda3/lib/python3.8/site-packages (from numba>=0.45.1->librosa) (49.2.0.post20200714)\n",
      "Requirement already satisfied: pyparsing>=2.0.2 in /Users/Lakhsh/opt/anaconda3/lib/python3.8/site-packages (from packaging>=20.0->librosa) (2.4.7)\n",
      "Requirement already satisfied: six in /Users/Lakhsh/opt/anaconda3/lib/python3.8/site-packages (from packaging>=20.0->librosa) (1.15.0)\n",
      "Requirement already satisfied: requests>=2.19.0 in /Users/Lakhsh/opt/anaconda3/lib/python3.8/site-packages (from pooch>=1.0->librosa) (2.24.0)\n",
      "Requirement already satisfied: appdirs>=1.3.0 in /Users/Lakhsh/.local/lib/python3.8/site-packages (from pooch>=1.0->librosa) (1.4.4)\n",
      "Requirement already satisfied: chardet<4,>=3.0.2 in /Users/Lakhsh/opt/anaconda3/lib/python3.8/site-packages (from requests>=2.19.0->pooch>=1.0->librosa) (3.0.4)\n",
      "Requirement already satisfied: certifi>=2017.4.17 in /Users/Lakhsh/opt/anaconda3/lib/python3.8/site-packages (from requests>=2.19.0->pooch>=1.0->librosa) (2020.6.20)\n",
      "Requirement already satisfied: urllib3!=1.25.0,!=1.25.1,<1.26,>=1.21.1 in /Users/Lakhsh/opt/anaconda3/lib/python3.8/site-packages (from requests>=2.19.0->pooch>=1.0->librosa) (1.25.9)\n",
      "Requirement already satisfied: idna<3,>=2.5 in /Users/Lakhsh/opt/anaconda3/lib/python3.8/site-packages (from requests>=2.19.0->pooch>=1.0->librosa) (2.10)\n",
      "Requirement already satisfied: threadpoolctl>=2.0.0 in /Users/Lakhsh/opt/anaconda3/lib/python3.8/site-packages (from scikit-learn>=0.19.1->librosa) (2.1.0)\n",
      "Requirement already satisfied: cffi>=1.0 in /Users/Lakhsh/opt/anaconda3/lib/python3.8/site-packages (from soundfile>=0.10.2->librosa) (1.14.0)\n",
      "Requirement already satisfied: pycparser in /Users/Lakhsh/opt/anaconda3/lib/python3.8/site-packages (from cffi>=1.0->soundfile>=0.10.2->librosa) (2.20)\n",
      "\u001b[33mWARNING: You are using pip version 21.1.1; however, version 22.1 is available.\n",
      "You should consider upgrading via the '/Users/Lakhsh/opt/anaconda3/bin/python -m pip install --upgrade pip' command.\u001b[0m\n",
      "Requirement already satisfied: scaper in /Users/Lakhsh/opt/anaconda3/lib/python3.8/site-packages (1.6.5)\n",
      "Requirement already satisfied: sox==1.4.0 in /Users/Lakhsh/opt/anaconda3/lib/python3.8/site-packages (from scaper) (1.4.0)\n",
      "Requirement already satisfied: pyloudnorm in /Users/Lakhsh/opt/anaconda3/lib/python3.8/site-packages (from scaper) (0.1.0)\n",
      "Requirement already satisfied: soxbindings>=1.2.2 in /Users/Lakhsh/opt/anaconda3/lib/python3.8/site-packages (from scaper) (1.2.3)\n",
      "Requirement already satisfied: soundfile in /Users/Lakhsh/opt/anaconda3/lib/python3.8/site-packages (from scaper) (0.10.3.post1)\n",
      "Requirement already satisfied: jams>=0.3.2 in /Users/Lakhsh/opt/anaconda3/lib/python3.8/site-packages (from scaper) (0.3.4)\n",
      "Requirement already satisfied: numpy>=1.13.3 in /Users/Lakhsh/opt/anaconda3/lib/python3.8/site-packages (from scaper) (1.18.5)\n",
      "Requirement already satisfied: six in /Users/Lakhsh/opt/anaconda3/lib/python3.8/site-packages (from jams>=0.3.2->scaper) (1.15.0)\n",
      "Requirement already satisfied: decorator in /Users/Lakhsh/opt/anaconda3/lib/python3.8/site-packages (from jams>=0.3.2->scaper) (4.4.2)\n",
      "Requirement already satisfied: pandas in /Users/Lakhsh/opt/anaconda3/lib/python3.8/site-packages (from jams>=0.3.2->scaper) (1.1.2)\n",
      "Requirement already satisfied: mir-eval>=0.5 in /Users/Lakhsh/opt/anaconda3/lib/python3.8/site-packages (from jams>=0.3.2->scaper) (0.7)\n",
      "Requirement already satisfied: sortedcontainers>=2.0.0 in /Users/Lakhsh/opt/anaconda3/lib/python3.8/site-packages (from jams>=0.3.2->scaper) (2.2.2)\n",
      "Requirement already satisfied: jsonschema>=3.0.0 in /Users/Lakhsh/opt/anaconda3/lib/python3.8/site-packages (from jams>=0.3.2->scaper) (3.2.0)\n",
      "Requirement already satisfied: pyrsistent>=0.14.0 in /Users/Lakhsh/opt/anaconda3/lib/python3.8/site-packages (from jsonschema>=3.0.0->jams>=0.3.2->scaper) (0.16.0)\n",
      "Requirement already satisfied: attrs>=17.4.0 in /Users/Lakhsh/opt/anaconda3/lib/python3.8/site-packages (from jsonschema>=3.0.0->jams>=0.3.2->scaper) (19.3.0)\n",
      "Requirement already satisfied: setuptools in /Users/Lakhsh/opt/anaconda3/lib/python3.8/site-packages (from jsonschema>=3.0.0->jams>=0.3.2->scaper) (49.2.0.post20200714)\n",
      "Requirement already satisfied: future in /Users/Lakhsh/opt/anaconda3/lib/python3.8/site-packages (from mir-eval>=0.5->jams>=0.3.2->scaper) (0.18.2)\n",
      "Requirement already satisfied: scipy>=1.0.0 in /Users/Lakhsh/opt/anaconda3/lib/python3.8/site-packages (from mir-eval>=0.5->jams>=0.3.2->scaper) (1.5.2)\n",
      "Requirement already satisfied: python-dateutil>=2.7.3 in /Users/Lakhsh/opt/anaconda3/lib/python3.8/site-packages (from pandas->jams>=0.3.2->scaper) (2.8.1)\n",
      "Requirement already satisfied: pytz>=2017.2 in /Users/Lakhsh/opt/anaconda3/lib/python3.8/site-packages (from pandas->jams>=0.3.2->scaper) (2020.1)\n",
      "Requirement already satisfied: cffi>=1.0 in /Users/Lakhsh/opt/anaconda3/lib/python3.8/site-packages (from soundfile->scaper) (1.14.0)\n",
      "Requirement already satisfied: pycparser in /Users/Lakhsh/opt/anaconda3/lib/python3.8/site-packages (from cffi>=1.0->soundfile->scaper) (2.20)\n"
     ]
    },
    {
     "name": "stdout",
     "output_type": "stream",
     "text": [
      "\u001b[33mWARNING: You are using pip version 21.1.1; however, version 22.1 is available.\n",
      "You should consider upgrading via the '/Users/Lakhsh/opt/anaconda3/bin/python -m pip install --upgrade pip' command.\u001b[0m\n",
      "Cloning into 'librosa'...\n",
      "remote: Enumerating objects: 16333, done.\u001b[K\n",
      "remote: Counting objects: 100% (35/35), done.\u001b[K\n",
      "remote: Compressing objects: 100% (31/31), done.\u001b[K\n",
      "remote: Total 16333 (delta 11), reused 17 (delta 4), pack-reused 16298\u001b[K\n",
      "Receiving objects: 100% (16333/16333), 33.28 MiB | 11.36 MiB/s, done.\n",
      "Resolving deltas: 100% (11217/11217), done.\n",
      "Obtaining file:///Users/Lakhsh/School/vad/librosa\n",
      "  Installing build dependencies ... \u001b[?25ldone\n",
      "\u001b[?25h  Getting requirements to build wheel ... \u001b[?25ldone\n",
      "\u001b[?25h    Preparing wheel metadata ... \u001b[?25ldone\n",
      "\u001b[?25hRequirement already satisfied: audioread>=2.1.9 in /Users/Lakhsh/opt/anaconda3/lib/python3.8/site-packages (from librosa==0.9.1) (2.1.9)\n",
      "Requirement already satisfied: decorator>=4.0.10 in /Users/Lakhsh/opt/anaconda3/lib/python3.8/site-packages (from librosa==0.9.1) (4.4.2)\n",
      "Requirement already satisfied: soundfile>=0.10.2 in /Users/Lakhsh/opt/anaconda3/lib/python3.8/site-packages (from librosa==0.9.1) (0.10.3.post1)\n",
      "Requirement already satisfied: numba>=0.45.1 in /Users/Lakhsh/opt/anaconda3/lib/python3.8/site-packages (from librosa==0.9.1) (0.50.1)\n",
      "Requirement already satisfied: scikit-learn>=0.19.1 in /Users/Lakhsh/opt/anaconda3/lib/python3.8/site-packages (from librosa==0.9.1) (0.23.2)\n",
      "Requirement already satisfied: joblib>=0.14 in /Users/Lakhsh/opt/anaconda3/lib/python3.8/site-packages (from librosa==0.9.1) (0.16.0)\n",
      "Requirement already satisfied: scipy>=1.2.0 in /Users/Lakhsh/opt/anaconda3/lib/python3.8/site-packages (from librosa==0.9.1) (1.5.2)\n",
      "Requirement already satisfied: pooch>=1.0 in /Users/Lakhsh/opt/anaconda3/lib/python3.8/site-packages (from librosa==0.9.1) (1.6.0)\n",
      "Requirement already satisfied: resampy>=0.2.2 in /Users/Lakhsh/opt/anaconda3/lib/python3.8/site-packages (from librosa==0.9.1) (0.2.2)\n",
      "Requirement already satisfied: packaging>=20.0 in /Users/Lakhsh/opt/anaconda3/lib/python3.8/site-packages (from librosa==0.9.1) (20.4)\n",
      "Requirement already satisfied: numpy>=1.17.0 in /Users/Lakhsh/opt/anaconda3/lib/python3.8/site-packages (from librosa==0.9.1) (1.18.5)\n",
      "Requirement already satisfied: llvmlite<0.34,>=0.33.0.dev0 in /Users/Lakhsh/opt/anaconda3/lib/python3.8/site-packages (from numba>=0.45.1->librosa==0.9.1) (0.33.0+1.g022ab0f)\n",
      "Requirement already satisfied: setuptools in /Users/Lakhsh/opt/anaconda3/lib/python3.8/site-packages (from numba>=0.45.1->librosa==0.9.1) (49.2.0.post20200714)\n",
      "Requirement already satisfied: pyparsing>=2.0.2 in /Users/Lakhsh/opt/anaconda3/lib/python3.8/site-packages (from packaging>=20.0->librosa==0.9.1) (2.4.7)\n",
      "Requirement already satisfied: six in /Users/Lakhsh/opt/anaconda3/lib/python3.8/site-packages (from packaging>=20.0->librosa==0.9.1) (1.15.0)\n",
      "Requirement already satisfied: appdirs>=1.3.0 in /Users/Lakhsh/.local/lib/python3.8/site-packages (from pooch>=1.0->librosa==0.9.1) (1.4.4)\n",
      "Requirement already satisfied: requests>=2.19.0 in /Users/Lakhsh/opt/anaconda3/lib/python3.8/site-packages (from pooch>=1.0->librosa==0.9.1) (2.24.0)\n",
      "Requirement already satisfied: urllib3!=1.25.0,!=1.25.1,<1.26,>=1.21.1 in /Users/Lakhsh/opt/anaconda3/lib/python3.8/site-packages (from requests>=2.19.0->pooch>=1.0->librosa==0.9.1) (1.25.9)\n",
      "Requirement already satisfied: certifi>=2017.4.17 in /Users/Lakhsh/opt/anaconda3/lib/python3.8/site-packages (from requests>=2.19.0->pooch>=1.0->librosa==0.9.1) (2020.6.20)\n",
      "Requirement already satisfied: idna<3,>=2.5 in /Users/Lakhsh/opt/anaconda3/lib/python3.8/site-packages (from requests>=2.19.0->pooch>=1.0->librosa==0.9.1) (2.10)\n",
      "Requirement already satisfied: chardet<4,>=3.0.2 in /Users/Lakhsh/opt/anaconda3/lib/python3.8/site-packages (from requests>=2.19.0->pooch>=1.0->librosa==0.9.1) (3.0.4)\n",
      "Requirement already satisfied: threadpoolctl>=2.0.0 in /Users/Lakhsh/opt/anaconda3/lib/python3.8/site-packages (from scikit-learn>=0.19.1->librosa==0.9.1) (2.1.0)\n",
      "Requirement already satisfied: cffi>=1.0 in /Users/Lakhsh/opt/anaconda3/lib/python3.8/site-packages (from soundfile>=0.10.2->librosa==0.9.1) (1.14.0)\n",
      "Requirement already satisfied: pycparser in /Users/Lakhsh/opt/anaconda3/lib/python3.8/site-packages (from cffi>=1.0->soundfile>=0.10.2->librosa==0.9.1) (2.20)\n",
      "Installing collected packages: librosa\n",
      "  Attempting uninstall: librosa\n",
      "    Found existing installation: librosa 0.9.1\n",
      "    Uninstalling librosa-0.9.1:\n",
      "      Successfully uninstalled librosa-0.9.1\n",
      "  Running setup.py develop for librosa\n",
      "Successfully installed librosa\n",
      "\u001b[33mWARNING: You are using pip version 21.1.1; however, version 22.1 is available.\n",
      "You should consider upgrading via the '/Users/Lakhsh/opt/anaconda3/bin/python -m pip install --upgrade pip' command.\u001b[0m\n"
     ]
    },
    {
     "name": "stderr",
     "output_type": "stream",
     "text": [
      "SoX could not be found!\n",
      "\n",
      "    If you do not have SoX, proceed here:\n",
      "     - - - http://sox.sourceforge.net/ - - -\n",
      "\n",
      "    If you do (or think that you should) have SoX, double-check your\n",
      "    path variables.\n",
      "    \n"
     ]
    }
   ],
   "source": [
    "!pip install pvcobra\n",
    "!pip install webrtcvad\n",
    "!pip install soundfile\n",
    "!pip install torchaudio\n",
    "!pip install librosa\n",
    "!pip install scaper\n",
    "!git clone https://github.com/librosa/librosa.git\n",
    "!pip install -e librosa\n",
    "\n",
    "import numpy as np\n",
    "from sklearn.metrics import precision_recall_fscore_support as metrics\n",
    "from re import S\n",
    "import vad_engines.silero as silero\n",
    "import vad_engines.cobra as cobra\n",
    "import vad_engines.webrtc as webrtc\n",
    "import soundfile as sf\n",
    "import wave, sys\n",
    "from synthesize import generate_soundscapes\n",
    "import os\n",
    "import librosa as lb\n",
    "\n",
    "#IGNORE WARNING ABOUT SOX"
   ]
  },
  {
   "cell_type": "code",
   "execution_count": 3,
   "metadata": {
    "scrolled": true
   },
   "outputs": [
    {
     "name": "stdout",
     "output_type": "stream",
     "text": [
      "Generating soundscape: 1/5\n"
     ]
    },
    {
     "name": "stderr",
     "output_type": "stream",
     "text": [
      "/Users/Lakhsh/opt/anaconda3/lib/python3.8/site-packages/scaper/core.py:1583: ScaperWarning: panns_inference source time tuple (const, 0) could not be satisfied given source duration (5.91) and event duration (10.00), source time tuple changed to (const, 0) but was still not satisfiable, likely due to using 'normal' distribution with bounds too close to the start or end of the audio file\n",
      "  warnings.warn(\n",
      "/Users/Lakhsh/opt/anaconda3/lib/python3.8/site-packages/scaper/core.py:1625: ScaperWarning: en_16k event time (7.09) is too great given stretched event duration (3.19) and soundscape duration (10.00), changed to 6.81.\n",
      "  warnings.warn(\n"
     ]
    },
    {
     "name": "stdout",
     "output_type": "stream",
     "text": [
      "Generating soundscape: 2/5\n"
     ]
    },
    {
     "name": "stderr",
     "output_type": "stream",
     "text": [
      "/Users/Lakhsh/opt/anaconda3/lib/python3.8/site-packages/scaper/core.py:1583: ScaperWarning: panns_inference source time tuple (const, 0) could not be satisfied given source duration (6.87) and event duration (10.00), source time tuple changed to (const, 0) but was still not satisfiable, likely due to using 'normal' distribution with bounds too close to the start or end of the audio file\n",
      "  warnings.warn(\n"
     ]
    },
    {
     "name": "stdout",
     "output_type": "stream",
     "text": [
      "Generating soundscape: 3/5\n"
     ]
    },
    {
     "name": "stderr",
     "output_type": "stream",
     "text": [
      "/Users/Lakhsh/opt/anaconda3/lib/python3.8/site-packages/scaper/core.py:1583: ScaperWarning: panns_inference source time tuple (const, 0) could not be satisfied given source duration (6.23) and event duration (10.00), source time tuple changed to (const, 0) but was still not satisfiable, likely due to using 'normal' distribution with bounds too close to the start or end of the audio file\n",
      "  warnings.warn(\n",
      "/Users/Lakhsh/opt/anaconda3/lib/python3.8/site-packages/scaper/core.py:1583: ScaperWarning: panns_inference source time tuple (const, 0) could not be satisfied given source duration (4.95) and event duration (10.00), source time tuple changed to (const, 0) but was still not satisfiable, likely due to using 'normal' distribution with bounds too close to the start or end of the audio file\n",
      "  warnings.warn(\n",
      "/Users/Lakhsh/opt/anaconda3/lib/python3.8/site-packages/scaper/core.py:1583: ScaperWarning: panns_inference source time tuple (const, 0) could not be satisfied given source duration (5.59) and event duration (10.00), source time tuple changed to (const, 0) but was still not satisfiable, likely due to using 'normal' distribution with bounds too close to the start or end of the audio file\n",
      "  warnings.warn(\n"
     ]
    },
    {
     "name": "stdout",
     "output_type": "stream",
     "text": [
      "Generating soundscape: 4/5\n"
     ]
    },
    {
     "name": "stderr",
     "output_type": "stream",
     "text": [
      "/Users/Lakhsh/opt/anaconda3/lib/python3.8/site-packages/scaper/core.py:1583: ScaperWarning: panns_inference source time tuple (const, 0) could not be satisfied given source duration (6.87) and event duration (10.00), source time tuple changed to (const, 0) but was still not satisfiable, likely due to using 'normal' distribution with bounds too close to the start or end of the audio file\n",
      "  warnings.warn(\n",
      "/Users/Lakhsh/opt/anaconda3/lib/python3.8/site-packages/scaper/core.py:1583: ScaperWarning: panns_inference source time tuple (const, 0) could not be satisfied given source duration (5.91) and event duration (10.00), source time tuple changed to (const, 0) but was still not satisfiable, likely due to using 'normal' distribution with bounds too close to the start or end of the audio file\n",
      "  warnings.warn(\n",
      "/Users/Lakhsh/opt/anaconda3/lib/python3.8/site-packages/scaper/core.py:1583: ScaperWarning: panns_inference source time tuple (const, 0) could not be satisfied given source duration (6.23) and event duration (10.00), source time tuple changed to (const, 0) but was still not satisfiable, likely due to using 'normal' distribution with bounds too close to the start or end of the audio file\n",
      "  warnings.warn(\n",
      "/Users/Lakhsh/opt/anaconda3/lib/python3.8/site-packages/scaper/core.py:1625: ScaperWarning: en_16k event time (9.59) is too great given stretched event duration (3.19) and soundscape duration (10.00), changed to 6.81.\n",
      "  warnings.warn(\n",
      "/Users/Lakhsh/opt/anaconda3/lib/python3.8/site-packages/scaper/core.py:1501: ScaperWarning: en_16k event duration (3.49) is greater that source duration (2.11), changing to 2.11\n",
      "  warnings.warn(\n"
     ]
    },
    {
     "name": "stdout",
     "output_type": "stream",
     "text": [
      "Generating soundscape: 5/5\n"
     ]
    },
    {
     "name": "stderr",
     "output_type": "stream",
     "text": [
      "/Users/Lakhsh/opt/anaconda3/lib/python3.8/site-packages/scaper/core.py:1583: ScaperWarning: panns_inference source time tuple (const, 0) could not be satisfied given source duration (6.23) and event duration (10.00), source time tuple changed to (const, 0) but was still not satisfiable, likely due to using 'normal' distribution with bounds too close to the start or end of the audio file\n",
      "  warnings.warn(\n",
      "/Users/Lakhsh/opt/anaconda3/lib/python3.8/site-packages/scaper/core.py:1583: ScaperWarning: panns_inference source time tuple (const, 0) could not be satisfied given source duration (6.87) and event duration (10.00), source time tuple changed to (const, 0) but was still not satisfiable, likely due to using 'normal' distribution with bounds too close to the start or end of the audio file\n",
      "  warnings.warn(\n",
      "/Users/Lakhsh/opt/anaconda3/lib/python3.8/site-packages/scaper/core.py:1625: ScaperWarning: en_16k event time (6.88) is too great given stretched event duration (3.53) and soundscape duration (10.00), changed to 6.47.\n",
      "  warnings.warn(\n",
      "/Users/Lakhsh/opt/anaconda3/lib/python3.8/site-packages/scaper/core.py:1501: ScaperWarning: en_16k event duration (3.97) is greater that source duration (1.90), changing to 1.90\n",
      "  warnings.warn(\n",
      "/Users/Lakhsh/opt/anaconda3/lib/python3.8/site-packages/scaper/core.py:1501: ScaperWarning: en_16k event duration (3.24) is greater that source duration (2.66), changing to 2.66\n",
      "  warnings.warn(\n",
      "/Users/Lakhsh/opt/anaconda3/lib/python3.8/site-packages/scaper/core.py:1501: ScaperWarning: en_16k event duration (3.68) is greater that source duration (2.66), changing to 2.66\n",
      "  warnings.warn(\n"
     ]
    }
   ],
   "source": [
    "'''\n",
    "FIRST, WE MUST CREATE SOME AUDIO DATA TO TEST OUR MODELS ON. WE USE SCAPER TO CREATE A MIXTURE OF BACKGROUND TRACKS\n",
    "AND FOREGROUND AUDIO SAMPLES. \n",
    "\n",
    "\n",
    "SCAPER WILL RANDOMLY SELECT AUDIO FROM THE AUDIO/BACKGROUND FOLDER AND VOICE SAMPLES FROM AUDIO/FOREGROUND.\n",
    "THE RESULTING SOUNDSCAPES ARE WRITTEN TO AUDIO/SOUNDSCAPES. (THIS DIRECTORY MUST EXIST BEFORE SCAPER RUNS)\n",
    "\n",
    "ALTER THE BELOW PARAMETERS AS NECESSARY\n",
    "'''\n",
    "\n",
    "outfolder = 'audio/soundscapes/'\n",
    "fg_folder = 'audio/foreground/'\n",
    "bg_folder = 'audio/background/'\n",
    "n_soundscapes = 5\n",
    "ref_db = -50\n",
    "duration = 10.0\n",
    "min_events = 1\n",
    "max_events = 2\n",
    "event_time_dist = 'truncnorm'\n",
    "event_time_mean = 5.0\n",
    "event_time_std = 2.0\n",
    "event_time_min = 0.0\n",
    "event_time_max = 10.0\n",
    "source_time_dist = 'const'\n",
    "source_time = 0\n",
    "event_duration_dist = 'uniform'\n",
    "event_duration_min = 1.5\n",
    "event_duration_max = 4.0\n",
    "snr_dist = 'uniform'\n",
    "snr_min = 2\n",
    "snr_max = 10\n",
    "pitch_dist = 'uniform'\n",
    "pitch_min = -1.0\n",
    "pitch_max = 1.0\n",
    "time_stretch_dist = 'uniform'\n",
    "time_stretch_min = 0.8\n",
    "time_stretch_max = 1.2\n",
    "\n",
    "#this call will overwrite whatever exists in audio/soundscapes\n",
    "generate_soundscapes(outfolder=outfolder,\n",
    "                    fg_folder=fg_folder,\n",
    "                    bg_folder=bg_folder,\n",
    "                    n_soundscapes=n_soundscapes,\n",
    "                    ref_db=ref_db,\n",
    "                    duration=duration,\n",
    "                    min_events=min_events,\n",
    "                    max_events=max_events,\n",
    "                    event_time_dist=event_time_dist,\n",
    "                    event_time_mean=event_time_mean,\n",
    "                    event_time_std=event_time_std,\n",
    "                    event_time_min=event_time_min,\n",
    "                    event_time_max =event_time_max,\n",
    "                    source_time_dist=source_time_dist,\n",
    "                    source_time=source_time,\n",
    "                    event_duration_dist=event_duration_dist,\n",
    "                    event_duration_min=event_duration_min,\n",
    "                    event_duration_max=event_duration_max,\n",
    "                    snr_dist=snr_dist,\n",
    "                    snr_min=snr_min,\n",
    "                    snr_max=snr_max,\n",
    "                    pitch_dist=pitch_dist,\n",
    "                    pitch_min=pitch_min,\n",
    "                    pitch_max=pitch_max,\n",
    "                    time_stretch_dist=time_stretch_dist,\n",
    "                    time_stretch_min=time_stretch_min,\n",
    "                    time_stretch_max=time_stretch_max)"
   ]
  },
  {
   "cell_type": "code",
   "execution_count": 4,
   "metadata": {},
   "outputs": [],
   "source": [
    "def convert_to_pcm_16k(file):\n",
    "    y, s = lb.load(file, sr=16000)\n",
    "    sf.write(file, y, s, subtype='PCM_16')"
   ]
  },
  {
   "cell_type": "code",
   "execution_count": 5,
   "metadata": {},
   "outputs": [],
   "source": [
    "with wave.open('./audio/soundscapes/soundscape_unimodal0.wav', 'rb') as wf:    \n",
    "        nchannels, sampwidth, framerate, nframes, comptype, compname = wf.getparams()\n",
    "\n",
    "ground_truth_sum = np.zeros((n_soundscapes, nframes))\n",
    "cobra_preds_sum = np.zeros((n_soundscapes, nframes))\n",
    "silero_preds_sum = np.zeros((n_soundscapes, nframes))\n",
    "webrtc_preds_sum = np.zeros((n_soundscapes, nframes))"
   ]
  },
  {
   "cell_type": "code",
   "execution_count": 6,
   "metadata": {},
   "outputs": [],
   "source": [
    "def generate_gt_timestamps(gt_filepath, num_frames, SAMPLING_RATE):\n",
    "    gt_timestamps = np.zeros((num_frames))    \n",
    "    for line in open(gt_filepath, 'r'):\n",
    "        start, end, label = line.split(\"\\t\")\n",
    "        start = (int)(float(start) * SAMPLING_RATE)\n",
    "        end = (int)(float(end) * SAMPLING_RATE)\n",
    "        gt_timestamps[start:end] = 1\n",
    "    return gt_timestamps"
   ]
  },
  {
   "cell_type": "code",
   "execution_count": 10,
   "metadata": {
    "scrolled": true
   },
   "outputs": [
    {
     "name": "stderr",
     "output_type": "stream",
     "text": [
      "Downloading: \"https://github.com/snakers4/silero-vad/archive/master.zip\" to /Users/Lakhsh/.cache/torch/hub/master.zip\n"
     ]
    },
    {
     "name": "stdout",
     "output_type": "stream",
     "text": [
      "num_frames: 312\n"
     ]
    },
    {
     "name": "stderr",
     "output_type": "stream",
     "text": [
      "Downloading: \"https://github.com/snakers4/silero-vad/archive/master.zip\" to /Users/Lakhsh/.cache/torch/hub/master.zip\n"
     ]
    },
    {
     "name": "stdout",
     "output_type": "stream",
     "text": [
      "num_frames: 312\n"
     ]
    },
    {
     "name": "stderr",
     "output_type": "stream",
     "text": [
      "Downloading: \"https://github.com/snakers4/silero-vad/archive/master.zip\" to /Users/Lakhsh/.cache/torch/hub/master.zip\n"
     ]
    },
    {
     "name": "stdout",
     "output_type": "stream",
     "text": [
      "num_frames: 312\n"
     ]
    },
    {
     "name": "stderr",
     "output_type": "stream",
     "text": [
      "Downloading: \"https://github.com/snakers4/silero-vad/archive/master.zip\" to /Users/Lakhsh/.cache/torch/hub/master.zip\n"
     ]
    },
    {
     "name": "stdout",
     "output_type": "stream",
     "text": [
      "num_frames: 312\n"
     ]
    },
    {
     "name": "stderr",
     "output_type": "stream",
     "text": [
      "Downloading: \"https://github.com/snakers4/silero-vad/archive/master.zip\" to /Users/Lakhsh/.cache/torch/hub/master.zip\n"
     ]
    },
    {
     "name": "stdout",
     "output_type": "stream",
     "text": [
      "num_frames: 312\n",
      "Silero:\n",
      "[{'start': 22560, 'end': 45024}, {'start': 102912, 'end': 134112}, {'start': 138240, 'end': 146400}]\n",
      "Cobra:\n",
      "[{'start': 0, 'end': 4096}, {'start': 22528, 'end': 60928}]\n",
      "WebRTC:\n",
      "[{'start': 119040, 'end': 133440}]\n"
     ]
    }
   ],
   "source": [
    "# directory name\n",
    "dirname = './audio/soundscapes' \n",
    "# scanning the directory to get required files\n",
    "i = 0\n",
    "for files in os.scandir(dirname):\n",
    "    if files.path.endswith('.wav'):\n",
    "        #convert the audio track to 16,000 for compliance with all VAD engines\n",
    "        SAMPLING_RATE = 16000\n",
    "        convert_to_pcm_16k(files.path)\n",
    "        gt_filepath = files.path[:-3] +'txt'\n",
    "        gt_timestamps = generate_gt_timestamps(gt_filepath, nframes, SAMPLING_RATE)\n",
    "        \n",
    "        filepath = files.path\n",
    "        silero_voice_timestamps = silero.get_voice_timestamps(filepath, SAMPLING_RATE)\n",
    "        cobra_threshold = 0.2\n",
    "        cobra_voice_timestamps = cobra.get_voice_timestamps(filepath, threshold=cobra_threshold)\n",
    "        webrtc_voice_timestamps = webrtc.get_voice_timestamps(filepath)\n",
    "        \n",
    "        return_time = False\n",
    "        if return_time:\n",
    "            silero_voice_timestamps = frame_to_time(silero_voice_timestamps, SAMPLING_RATE)\n",
    "            cobra_voice_timestamps = frame_to_time(cobra_voice_timestamps, SAMPLING_RATE)\n",
    "            webrtc_voice_timestamps = frame_to_time(webrtc_voice_timestamps, SAMPLING_RATE)\n",
    "        \n",
    "        cobra_preds = np.zeros(nframes)\n",
    "        silero_preds = np.zeros(nframes)\n",
    "        webrtc_preds = np.zeros(nframes)\n",
    "\n",
    "        for interval in cobra_voice_timestamps:\n",
    "            start = interval['start']\n",
    "            end = interval['end']\n",
    "            cobra_preds[start:end] = 1\n",
    "    \n",
    "        for interval in silero_voice_timestamps:\n",
    "            start = interval['start']\n",
    "            end = interval['end']\n",
    "            silero_preds[start:end] = 1\n",
    "\n",
    "        for interval in webrtc_voice_timestamps:\n",
    "            start = interval['start']\n",
    "            end = interval['end']\n",
    "            webrtc_preds[start:end] = 1\n",
    "        \n",
    "        ground_truth_sum[i] = gt_timestamps\n",
    "        cobra_preds_sum[i] = cobra_preds\n",
    "        silero_preds_sum[i] = silero_preds\n",
    "        webrtc_preds_sum[i] = webrtc_preds\n",
    "        \n",
    "        i+=1\n",
    "\n"
   ]
  },
  {
   "cell_type": "code",
   "execution_count": 15,
   "metadata": {},
   "outputs": [
    {
     "name": "stdout",
     "output_type": "stream",
     "text": [
      "(5,)\n"
     ]
    }
   ],
   "source": [
    "#         cobra_preds_sum[i] = cobra_preds\n",
    "#         silero_preds_sum[i] = silero_preds\n",
    "#         webrtc_preds_sum"
   ]
  },
  {
   "cell_type": "code",
   "execution_count": 29,
   "metadata": {},
   "outputs": [
    {
     "name": "stdout",
     "output_type": "stream",
     "text": [
      "0.8953125\n",
      "0.9876455745341615\n",
      "1.0\n",
      "0.056529981969456154\n",
      "0.6043003274184018\n",
      "0.36793970098896417\n",
      "0.06457833388731059\n",
      "0.6526677240712839\n",
      "0.40394642449890694\n"
     ]
    }
   ],
   "source": [
    "cobra_precision, cobra_recall, cobra_f, cobra_support = \\\n",
    "            metrics(ground_truth_sum.T, cobra_preds_sum.T, beta=2, zero_division=1)\n",
    "silero_precision, silero_recall, silero_f, silero_support = \\\n",
    "            metrics(ground_truth_sum.T, silero_preds_sum.T, beta=2, zero_division=1)\n",
    "webrtc_precision, webrtc_recall, webrtc_f, webrtc_support = \\\n",
    "            metrics(ground_truth_sum.T, webrtc_preds_sum.T, beta=2, zero_division=1)\n",
    "\n",
    "cobra_precision, cobra_recall, cobra_f, cobra_support = \\\n",
    "            np.mean(cobra_precision), np.mean(cobra_recall), np.mean(cobra_f), np.mean(cobra_support)\n",
    "\n",
    "silero_precision, silero_recall, silero_f, silero_support = \\\n",
    "            np.mean(silero_precision), np.mean(silero_recall), np.mean(silero_f), np.mean(silero_support)\n",
    "\n",
    "webrtc_precision, webrtc_recall, webrtc_f, webrtc_support = \\\n",
    "            np.mean(webrtc_precision), np.mean(webrtc_recall), np.mean(webrtc_f), np.mean(webrtc_support)"
   ]
  },
  {
   "cell_type": "code",
   "execution_count": 34,
   "metadata": {},
   "outputs": [
    {
     "name": "stdout",
     "output_type": "stream",
     "text": [
      "STATS: \n",
      "\n",
      "- recall\n",
      "- f-score\n",
      "\n",
      "COBRA\n",
      "precision - 0.8953125\n"
     ]
    },
    {
     "ename": "TypeError",
     "evalue": "can only concatenate str (not \"numpy.float64\") to str",
     "output_type": "error",
     "traceback": [
      "\u001b[0;31m---------------------------------------------------------------------------\u001b[0m",
      "\u001b[0;31mTypeError\u001b[0m                                 Traceback (most recent call last)",
      "\u001b[0;32m<ipython-input-34-701e9a3f1cb7>\u001b[0m in \u001b[0;36m<module>\u001b[0;34m\u001b[0m\n\u001b[1;32m      7\u001b[0m \u001b[0mprint\u001b[0m\u001b[0;34m(\u001b[0m\u001b[0;34m'COBRA'\u001b[0m\u001b[0;34m)\u001b[0m\u001b[0;34m\u001b[0m\u001b[0;34m\u001b[0m\u001b[0m\n\u001b[1;32m      8\u001b[0m \u001b[0mprint\u001b[0m\u001b[0;34m(\u001b[0m\u001b[0;34m'precision - '\u001b[0m \u001b[0;34m+\u001b[0m \u001b[0mstr\u001b[0m\u001b[0;34m(\u001b[0m\u001b[0mcobra_precision\u001b[0m\u001b[0;34m)\u001b[0m\u001b[0;34m)\u001b[0m\u001b[0;34m\u001b[0m\u001b[0;34m\u001b[0m\u001b[0m\n\u001b[0;32m----> 9\u001b[0;31m \u001b[0mprint\u001b[0m\u001b[0;34m(\u001b[0m\u001b[0;34m'recall - '\u001b[0m \u001b[0;34m+\u001b[0m \u001b[0mcobra_recall\u001b[0m\u001b[0;34m)\u001b[0m\u001b[0;34m\u001b[0m\u001b[0;34m\u001b[0m\u001b[0m\n\u001b[0m\u001b[1;32m     10\u001b[0m \u001b[0mprint\u001b[0m\u001b[0;34m(\u001b[0m\u001b[0;34m'f-score - '\u001b[0m \u001b[0;34m+\u001b[0m \u001b[0mcobra_f\u001b[0m\u001b[0;34m)\u001b[0m\u001b[0;34m\u001b[0m\u001b[0;34m\u001b[0m\u001b[0m\n\u001b[1;32m     11\u001b[0m \u001b[0mprint\u001b[0m\u001b[0;34m(\u001b[0m\u001b[0;34m)\u001b[0m\u001b[0;34m\u001b[0m\u001b[0;34m\u001b[0m\u001b[0m\n",
      "\u001b[0;31mTypeError\u001b[0m: can only concatenate str (not \"numpy.float64\") to str"
     ]
    }
   ],
   "source": [
    "print('STATS: ')\n",
    "print('- precision')\n",
    "print('- recall')\n",
    "print('- f-score')\n",
    "print()\n",
    "\n",
    "print('COBRA')\n",
    "print(cobra_precision)\n",
    "print(cobra_recall)\n",
    "print(cobra_f)\n",
    "print()\n",
    "\n",
    "print('SILERO')\n",
    "print(silero_precision)\n",
    "print(silero_recall)\n",
    "print(silero_f)\n",
    "print()\n",
    "\n",
    "\n",
    "print('WEBRTC')\n",
    "print(webrtc_precision)\n",
    "print(webrtc_recall)\n",
    "print(webrtc_f)"
   ]
  },
  {
   "cell_type": "code",
   "execution_count": null,
   "metadata": {},
   "outputs": [],
   "source": []
  }
 ],
 "metadata": {
  "kernelspec": {
   "display_name": "Python 3",
   "language": "python",
   "name": "python3"
  },
  "language_info": {
   "codemirror_mode": {
    "name": "ipython",
    "version": 3
   },
   "file_extension": ".py",
   "mimetype": "text/x-python",
   "name": "python",
   "nbconvert_exporter": "python",
   "pygments_lexer": "ipython3",
   "version": "3.8.3"
  }
 },
 "nbformat": 4,
 "nbformat_minor": 4
}
